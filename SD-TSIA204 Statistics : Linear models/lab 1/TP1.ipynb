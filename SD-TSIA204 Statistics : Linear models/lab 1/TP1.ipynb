{
 "cells": [
  {
   "cell_type": "code",
   "execution_count": 93,
   "metadata": {},
   "outputs": [
    {
     "name": "stdout",
     "output_type": "stream",
     "text": [
      "Using matplotlib backend: Qt5Agg\n"
     ]
    }
   ],
   "source": [
    "%matplotlib\n",
    "import numpy as np\n",
    "import pandas as pd\n",
    "import matplotlib.pyplot as plt\n",
    "from scipy.stats import t\n",
    "from sklearn.linear_model import LinearRegression"
   ]
  },
  {
   "cell_type": "markdown",
   "metadata": {},
   "source": [
    "# Question 1\n"
   ]
  },
  {
   "cell_type": "code",
   "execution_count": 37,
   "metadata": {},
   "outputs": [],
   "source": [
    "fields=[\"year\",\"gnp\",\"invest\",\"cpi\",\"interest\"]\n",
    "invest = pd.read_csv(\"invest.txt\",sep=' ',usecols=fields)"
   ]
  },
  {
   "cell_type": "code",
   "execution_count": 38,
   "metadata": {},
   "outputs": [
    {
     "data": {
      "text/html": [
       "<div>\n",
       "<style scoped>\n",
       "    .dataframe tbody tr th:only-of-type {\n",
       "        vertical-align: middle;\n",
       "    }\n",
       "\n",
       "    .dataframe tbody tr th {\n",
       "        vertical-align: top;\n",
       "    }\n",
       "\n",
       "    .dataframe thead th {\n",
       "        text-align: right;\n",
       "    }\n",
       "</style>\n",
       "<table border=\"1\" class=\"dataframe\">\n",
       "  <thead>\n",
       "    <tr style=\"text-align: right;\">\n",
       "      <th></th>\n",
       "      <th>year</th>\n",
       "      <th>gnp</th>\n",
       "      <th>invest</th>\n",
       "      <th>cpi</th>\n",
       "      <th>interest</th>\n",
       "    </tr>\n",
       "  </thead>\n",
       "  <tbody>\n",
       "    <tr>\n",
       "      <th>0</th>\n",
       "      <td>1968</td>\n",
       "      <td>873.4</td>\n",
       "      <td>133.3</td>\n",
       "      <td>82.54</td>\n",
       "      <td>5.16</td>\n",
       "    </tr>\n",
       "    <tr>\n",
       "      <th>1</th>\n",
       "      <td>1969</td>\n",
       "      <td>944.0</td>\n",
       "      <td>149.3</td>\n",
       "      <td>86.79</td>\n",
       "      <td>5.87</td>\n",
       "    </tr>\n",
       "    <tr>\n",
       "      <th>2</th>\n",
       "      <td>1970</td>\n",
       "      <td>992.7</td>\n",
       "      <td>144.2</td>\n",
       "      <td>91.45</td>\n",
       "      <td>5.95</td>\n",
       "    </tr>\n",
       "    <tr>\n",
       "      <th>3</th>\n",
       "      <td>1971</td>\n",
       "      <td>1077.6</td>\n",
       "      <td>166.4</td>\n",
       "      <td>96.01</td>\n",
       "      <td>4.88</td>\n",
       "    </tr>\n",
       "    <tr>\n",
       "      <th>4</th>\n",
       "      <td>1972</td>\n",
       "      <td>1185.9</td>\n",
       "      <td>195.0</td>\n",
       "      <td>100.00</td>\n",
       "      <td>4.50</td>\n",
       "    </tr>\n",
       "  </tbody>\n",
       "</table>\n",
       "</div>"
      ],
      "text/plain": [
       "   year     gnp  invest     cpi  interest\n",
       "0  1968   873.4   133.3   82.54      5.16\n",
       "1  1969   944.0   149.3   86.79      5.87\n",
       "2  1970   992.7   144.2   91.45      5.95\n",
       "3  1971  1077.6   166.4   96.01      4.88\n",
       "4  1972  1185.9   195.0  100.00      4.50"
      ]
     },
     "execution_count": 38,
     "metadata": {},
     "output_type": "execute_result"
    }
   ],
   "source": [
    "invest.head()"
   ]
  },
  {
   "cell_type": "markdown",
   "metadata": {},
   "source": [
    "## Question 2"
   ]
  },
  {
   "cell_type": "code",
   "execution_count": 41,
   "metadata": {},
   "outputs": [],
   "source": [
    "x=np.log(invest[\"gnp\"])\n",
    "y=np.log(invest[\"invest\"])\n",
    "plt.plot(x,y)\n",
    "plt.show()"
   ]
  },
  {
   "cell_type": "markdown",
   "metadata": {},
   "source": [
    "## Question 3\n"
   ]
  },
  {
   "cell_type": "code",
   "execution_count": 55,
   "metadata": {},
   "outputs": [
    {
     "name": "stdout",
     "output_type": "stream",
     "text": [
      "beta_0= 7.3982674947376665\n",
      "beta_1= 0.15425089907838888\n"
     ]
    }
   ],
   "source": [
    "X=invest.gnp.describe().aggregate(np.mean)\n",
    "Y=invest.invest.describe().aggregate(np.mean)\n",
    "\n",
    "\n",
    "n=len(invest)\n",
    "s=0\n",
    "s1=0\n",
    "for i in range(n):\n",
    "    s+=(invest[\"gnp\"][i]-X)*(invest[\"invest\"][i]-Y)\n",
    "    s1+=(invest[\"gnp\"][i]-X)**2\n",
    "beta_1=s/s1\n",
    "beta_0=Y-beta_1*X\n",
    "print(\"beta_0=\",beta_0)\n",
    "print(\"beta_1=\",beta_1)"
   ]
  },
  {
   "cell_type": "markdown",
   "metadata": {},
   "source": [
    "## Question 4"
   ]
  },
  {
   "cell_type": "code",
   "execution_count": 56,
   "metadata": {},
   "outputs": [
    {
     "name": "stdout",
     "output_type": "stream",
     "text": [
      "Var(beta_0)= 230.27575704386697\n",
      "Var(beta_1)= 8.705600423618703e-05\n"
     ]
    }
   ],
   "source": [
    "temp=0\n",
    "for i in range(n):\n",
    "    temp+=(invest[\"invest\"][i]-(beta_0+beta_1*invest[\"gnp\"][i]))**2\n",
    "sigma=temp/(n-2)\n",
    "var_b0=sigma*((1/n)+((X)**2)/s1)\n",
    "var_b1=sigma/s1\n",
    "print(\"Var(beta_0)=\",var_b0)\n",
    "print(\"Var(beta_1)=\",var_b1)"
   ]
  },
  {
   "cell_type": "code",
   "execution_count": 74,
   "metadata": {},
   "outputs": [
    {
     "name": "stdout",
     "output_type": "stream",
     "text": [
      "[- 0.08105189666336302 , 0.08105189666336302 ]\n",
      "0.03212786091645902 True\n",
      "1771.8582472485061 False\n"
     ]
    }
   ],
   "source": [
    "random_values=t.rvs(n-2,  size = 1000)\n",
    "quantiles = np.quantile(random_values,0.55)\n",
    "print(\"[-\",quantiles,\",\",quantiles,\"]\")\n",
    "print((beta_0/var_b0),-quantiles<=(beta_0/var_b0)<=quantiles)\n",
    "print((beta_1/var_b1),-quantiles<=(beta_1/var_b1)<=quantiles)"
   ]
  },
  {
   "cell_type": "markdown",
   "metadata": {},
   "source": [
    "The p-value is"
   ]
  },
  {
   "cell_type": "code",
   "execution_count": 75,
   "metadata": {},
   "outputs": [
    {
     "data": {
      "text/plain": [
       "0.0016389941804687558"
      ]
     },
     "execution_count": 75,
     "metadata": {},
     "output_type": "execute_result"
    }
   ],
   "source": [
    "1-t.cdf(Y,0.97)"
   ]
  },
  {
   "cell_type": "markdown",
   "metadata": {},
   "source": [
    "## Question 5"
   ]
  },
  {
   "cell_type": "code",
   "execution_count": 76,
   "metadata": {},
   "outputs": [
    {
     "name": "stdout",
     "output_type": "stream",
     "text": [
      "The estimated necessary Investment for a GNP of 1000 is  161.64916657312654\n"
     ]
    }
   ],
   "source": [
    "inv=beta_0+beta_1*1000\n",
    "print(\"The estimated necessary Investment for a GNP of 1000 is \",inv)"
   ]
  },
  {
   "cell_type": "code",
   "execution_count": 82,
   "metadata": {},
   "outputs": [
    {
     "name": "stdout",
     "output_type": "stream",
     "text": [
      "confidence interval :  160.97529243282224 162.32304071343083\n",
      "prediction interval : 159.2591676545533 164.03916549169978\n"
     ]
    }
   ],
   "source": [
    "def CI(x_input):\n",
    "    c0=beta_0+beta_1*x_input-quantiles*np.sqrt(sigma)*np.sqrt((1/n)+((x_input-X)**2)/s1)\n",
    "    c1=beta_0+beta_1*x_input+quantiles*np.sqrt(sigma)*np.sqrt((1/n)+((x_input-X)**2)/s1)\n",
    "    return (c0,c1)\n",
    "def PI(x_input):\n",
    "    p0=beta_0+beta_1*x_input-quantiles*np.sqrt(sigma)*np.sqrt(1+(1/n)+((x_input-X)**2)/s1)\n",
    "    p1=beta_0+beta_1*x_input+quantiles*np.sqrt(sigma)*np.sqrt(1+(1/n)+((x_input-X)**2)/s1)\n",
    "    return (p0,p1)\n",
    "print(\"confidence interval : \",CI(1000)[0],CI(1000)[1])    \n",
    "print(\"prediction interval :\", PI(1000)[0],PI(1000)[1])"
   ]
  },
  {
   "cell_type": "markdown",
   "metadata": {},
   "source": [
    "## Question 6"
   ]
  },
  {
   "cell_type": "code",
   "execution_count": 91,
   "metadata": {},
   "outputs": [
    {
     "data": {
      "text/plain": [
       "<function matplotlib.pyplot.show(*args, **kw)>"
      ]
     },
     "execution_count": 91,
     "metadata": {},
     "output_type": "execute_result"
    }
   ],
   "source": [
    "x=np.log(invest[\"gnp\"])\n",
    "y=np.log(invest[\"invest\"])\n",
    "plt.plot(x,y,label=\"data\")\n",
    "z=[np.log(beta_0+beta_1*invest[\"gnp\"][i]) for i in range(n)]\n",
    "plt.plot(x,z,label=\"estimated regression line\")\n",
    "plt.legend()\n",
    "for i in range(n):\n",
    "    plt.plot((x[i],x[i]),(np.log(CI(invest[\"gnp\"][i])[0]),np.log(CI(invest[\"gnp\"][i])[1])),'ro-',color='red')\n",
    "    plt.plot((x[i],x[i]),(np.log(PI(invest[\"gnp\"][i])[0]),np.log(PI(invest[\"gnp\"][i])[1])),'ro-',color='green')\n",
    "plt.show"
   ]
  },
  {
   "cell_type": "markdown",
   "metadata": {},
   "source": [
    "## Question 7"
   ]
  },
  {
   "cell_type": "code",
   "execution_count": 99,
   "metadata": {},
   "outputs": [
    {
     "name": "stdout",
     "output_type": "stream",
     "text": [
      "slope = [0.15496368] intercept = 5.02993790597327 determination coefficient = 0.946362204399403\n"
     ]
    },
    {
     "data": {
      "text/plain": [
       "array([159.99362149])"
      ]
     },
     "execution_count": 99,
     "metadata": {},
     "output_type": "execute_result"
    }
   ],
   "source": [
    "X0=[]\n",
    "Y0=[]\n",
    "for i in range(n):\n",
    "    X0.append([invest[\"gnp\"][i]])\n",
    "    Y0.append(invest[\"invest\"][i])\n",
    "reg=LinearRegression().fit(X0,Y0)\n",
    "print(\"slope =\",reg.coef_,\"intercept =\", reg.intercept_,\"determination coefficient =\",reg.score(X0,Y0))\n",
    "reg.predict(1000)"
   ]
  },
  {
   "cell_type": "markdown",
   "metadata": {},
   "source": [
    "## Question 8"
   ]
  },
  {
   "cell_type": "code",
   "execution_count": 107,
   "metadata": {},
   "outputs": [],
   "source": [
    "x=np.log(invest[\"gnp\"])\n",
    "y=np.log(invest[\"invest\"])\n",
    "plt.plot(x,y,label=\"data\")\n",
    "z=[np.log(reg.intercept_+reg.coef_*invest[\"gnp\"][i]) for i in range(n)]\n",
    "plt.plot(x,z,label=\"estimated regression line\")\n",
    "temp=[np.log(reg.predict(invest[\"gnp\"][i])) for i in range(n)]\n",
    "for i in range(n):\n",
    "    plt.plot(x,temp,color=\"green\")\n",
    "plt.legend()\n",
    "plt.show()"
   ]
  },
  {
   "cell_type": "markdown",
   "metadata": {},
   "source": [
    "## Question 9"
   ]
  },
  {
   "cell_type": "code",
   "execution_count": null,
   "metadata": {},
   "outputs": [],
   "source": []
  }
 ],
 "metadata": {
  "kernelspec": {
   "display_name": "Python 3",
   "language": "python",
   "name": "python3"
  },
  "language_info": {
   "codemirror_mode": {
    "name": "ipython",
    "version": 3
   },
   "file_extension": ".py",
   "mimetype": "text/x-python",
   "name": "python",
   "nbconvert_exporter": "python",
   "pygments_lexer": "ipython3",
   "version": "3.7.0"
  }
 },
 "nbformat": 4,
 "nbformat_minor": 2
}
