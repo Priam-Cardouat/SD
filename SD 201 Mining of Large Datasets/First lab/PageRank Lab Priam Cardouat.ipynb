{
 "cells": [
  {
   "cell_type": "markdown",
   "metadata": {},
   "source": [
    "# Lab on PageRank\n",
    "\n",
    "### 1) Implementation of the PageRank algorithm\n"
   ]
  },
  {
   "cell_type": "code",
   "execution_count": 3,
   "metadata": {},
   "outputs": [],
   "source": [
    "def PageRank(G):\n",
    "    #We assume there are no dead ends in G\n",
    "    m=len(G)\n",
    "    M=[]\n",
    "    list_node=[]\n",
    "    #Let's obtain a list of all nodes\n",
    "    for k in range(m):\n",
    "        if G[k][0] not in list_node:\n",
    "            list_node.append(G[k][0])\n",
    "        if G[k][1] not in list_node:\n",
    "            list_node.append(G[k][1])\n",
    "    #We need to compute delta_out, then we build a list [index of node, delta_out(node)]\n",
    "    list_delta_out=[]\n",
    "    for i in range(len(list_node)):\n",
    "        compt=0\n",
    "        for k in range(m):\n",
    "            if G[k][0]==list_node[i]:\n",
    "                compt+=1\n",
    "        list_delta_out.append([list_node[i],compt])\n",
    "    #Now let's build MG\n",
    "    M=[]\n",
    "    for k in range(m):\n",
    "        v_j=G[k][0]\n",
    "        v_i=G[k][1]\n",
    "        value_delta_out_v_j=0\n",
    "        for i in range(len(list_delta_out)):\n",
    "            if v_j==list_delta_out[i][0]:\n",
    "                value_delta_out_v_j=list_delta_out[i][1]\n",
    "    \n",
    "        M.append([v_i,v_j,1/value_delta_out_v_j])\n",
    "    n=len(list_node)\n",
    "    p=[1/n]*n\n",
    "    t=0\n",
    "    beta=1\n",
    "    epsilon=0.1\n",
    "    while (True):\n",
    "        if t>100:\n",
    "            break\n",
    "        t+=1\n",
    "        temp=[0]*n\n",
    "        for k in range(len(M)):\n",
    "            temp[M[k][0]-1]+=(M[k][2]*p[M[k][1]-1])\n",
    "        p_prec=p\n",
    "        p=[(beta*temp[k]+(1-beta)/n) for k in range(n)]\n",
    "        #Let's compute the norm\n",
    "        norm=0\n",
    "        for k in range(n):\n",
    "            norm+=abs(p_prec[k]-p[k])\n",
    "        if norm<epsilon:\n",
    "            break\n",
    "    return p\n"
   ]
  },
  {
   "cell_type": "markdown",
   "metadata": {},
   "source": [
    "Let us execute the algorithm for $\\beta =$ 1 and $\\epsilon =$ 0.1 for the graph G given in example (hence we have G=[[1,2],[2,3],[3,4],[4,1],[1,5],[5,6],[6,1]])"
   ]
  },
  {
   "cell_type": "code",
   "execution_count": 4,
   "metadata": {},
   "outputs": [
    {
     "data": {
      "text/plain": [
       "[0.2708333333333333,\n",
       " 0.13541666666666666,\n",
       " 0.15625,\n",
       " 0.14583333333333331,\n",
       " 0.13541666666666666,\n",
       " 0.15625]"
      ]
     },
     "execution_count": 4,
     "metadata": {},
     "output_type": "execute_result"
    }
   ],
   "source": [
    "G=[[1,2],[2,3],[3,4],[4,1],[1,5],[5,6],[6,1]]\n",
    "PageRank(G)"
   ]
  },
  {
   "cell_type": "markdown",
   "metadata": {},
   "source": [
    "We obtain the PageRank vector [0.2708333333333333,0.13541666666666666,0.15625,0.14583333333333331,0.13541666666666666,0.15625].\n",
    "\n",
    "Now let us run the algorithm with $\\beta =$ 0.8 and $\\epsilon =$ 0.1"
   ]
  },
  {
   "cell_type": "code",
   "execution_count": 5,
   "metadata": {},
   "outputs": [],
   "source": [
    "def PageRank(G):\n",
    "    #We assume there are no dead ends in G\n",
    "    m=len(G)\n",
    "    M=[]\n",
    "    list_node=[]\n",
    "    #Let's obtain a list of all nodes\n",
    "    for k in range(m):\n",
    "        if G[k][0] not in list_node:\n",
    "            list_node.append(G[k][0])\n",
    "        if G[k][1] not in list_node:\n",
    "            list_node.append(G[k][1])\n",
    "    #We need to compute delta_out, then we build a list [index of node, delta_out(node)]\n",
    "    list_delta_out=[]\n",
    "    for i in range(len(list_node)):\n",
    "        compt=0\n",
    "        for k in range(m):\n",
    "            if G[k][0]==list_node[i]:\n",
    "                compt+=1\n",
    "        list_delta_out.append([list_node[i],compt])\n",
    "    #Now let's build MG\n",
    "    M=[]\n",
    "    for k in range(m):\n",
    "        v_j=G[k][0]\n",
    "        v_i=G[k][1]\n",
    "        value_delta_out_v_j=0\n",
    "        for i in range(len(list_delta_out)):\n",
    "            if v_j==list_delta_out[i][0]:\n",
    "                value_delta_out_v_j=list_delta_out[i][1]\n",
    "    \n",
    "        M.append([v_i,v_j,1/value_delta_out_v_j])\n",
    "    n=len(list_node)\n",
    "    p=[1/n]*n\n",
    "    t=0\n",
    "    beta=0.8\n",
    "    epsilon=0.1\n",
    "    while (True):\n",
    "        if t>100:\n",
    "            break\n",
    "        t+=1\n",
    "        temp=[0]*n\n",
    "        for k in range(len(M)):\n",
    "            temp[M[k][0]-1]+=(M[k][2]*p[M[k][1]-1])\n",
    "        p_prec=p\n",
    "        p=[(beta*temp[k]+(1-beta)/n) for k in range(n)]\n",
    "        #Let's compute the norm\n",
    "        norm=0\n",
    "        for k in range(n):\n",
    "            norm+=abs(p_prec[k]-p[k])\n",
    "        if norm<epsilon:\n",
    "            break\n",
    "    return p\n"
   ]
  },
  {
   "cell_type": "code",
   "execution_count": 6,
   "metadata": {},
   "outputs": [
    {
     "data": {
      "text/plain": [
       "[0.2573333333333333,\n",
       " 0.13626666666666665,\n",
       " 0.15599999999999997,\n",
       " 0.1581333333333333,\n",
       " 0.13626666666666665,\n",
       " 0.15599999999999997]"
      ]
     },
     "execution_count": 6,
     "metadata": {},
     "output_type": "execute_result"
    }
   ],
   "source": [
    "G=[[1,2],[2,3],[3,4],[4,1],[1,5],[5,6],[6,1]]\n",
    "PageRank(G)"
   ]
  },
  {
   "cell_type": "markdown",
   "metadata": {},
   "source": [
    "Hence, we obtain the PageRank vector [0.2573333333333333,0.13626666666666665,0.15599999999999997,0.1581333333333333,0.13626666666666665,0.15599999999999997]"
   ]
  },
  {
   "cell_type": "markdown",
   "metadata": {},
   "source": [
    "## 2) Construction of the Web graph from the webpages extracted from Wikipedia\n",
    "\n",
    "The function WebGraph() will build the graph thanks to the webpages extracted from Wikipedia provided.\n",
    "Then we will execute the PageRank algorithm on the graph we obtained (with $\\beta =$ 0.8 and $\\epsilon =$ 0.1)"
   ]
  },
  {
   "cell_type": "code",
   "execution_count": 7,
   "metadata": {},
   "outputs": [
    {
     "data": {
      "text/plain": [
       "[0.006437825294505133,\n",
       " 0.011021148159934012,\n",
       " 0.014609548691702053,\n",
       " 0.028285586662276294,\n",
       " 0.022297864880447278,\n",
       " 0.015252586988589462,\n",
       " 0.030998397419225814,\n",
       " 0.02157308685464078,\n",
       " 0.02142338735031625,\n",
       " 0.013692872308238032,\n",
       " 0.019995795164381498,\n",
       " 0.02290946417532976,\n",
       " 0.011584430168966793,\n",
       " 0.03769798089322775,\n",
       " 0.012247767367414482,\n",
       " 0.009940922477667478,\n",
       " 0.019534770075926862,\n",
       " 0.013274138791935468,\n",
       " 0.013053598733385522,\n",
       " 0.02286438111373949,\n",
       " 0.016305638133939086,\n",
       " 0.021910045751786122,\n",
       " 0.02202099375354676,\n",
       " 0.018901137587770157,\n",
       " 0.010902499661082497,\n",
       " 0.023402968504559665,\n",
       " 0.03177906580461608,\n",
       " 0.0075918263213862565,\n",
       " 0.004999033189466054,\n",
       " 0.013747960313756231,\n",
       " 0.02657827707776175,\n",
       " 0.015054672637344464,\n",
       " 0.013256455666009461,\n",
       " 0.01573986211119905,\n",
       " 0.009864541463955621,\n",
       " 0.008324826513882225,\n",
       " 0.027260647672818942,\n",
       " 0.0163859845884481,\n",
       " 0.033846404231555396,\n",
       " 0.0156565147153208,\n",
       " 0.010616903570837968,\n",
       " 0.04441976195553261,\n",
       " 0.004816090634229508,\n",
       " 0.02534583070120758,\n",
       " 0.017616152811909116,\n",
       " 0.004391434779142758,\n",
       " 0.014799643868674012,\n",
       " 0.01366604638058971,\n",
       " 0.020476820909477535,\n",
       " 0.0071282687847193955,\n",
       " 0.01710309289991122,\n",
       " 0.019935707564494264,\n",
       " 0.01861057560400385,\n",
       " 0.02280559632802747,\n",
       " 0.03604316393518801]"
      ]
     },
     "execution_count": 7,
     "metadata": {},
     "output_type": "execute_result"
    }
   ],
   "source": [
    "import os\n",
    "import re\n",
    "\n",
    "def WebGraph():\n",
    "    node=os.listdir('./toyset')\n",
    "    G=[]\n",
    "    for k,file in enumerate(node):\n",
    "        f=open(os.path.join(\"toyset\",file),\"r\",encoding=\"utf8\")\n",
    "        list_ref=re.findall(r\"a href=\\\"[^ ]+\\.html\\\"\",f.read())\n",
    "        for link in list_ref:\n",
    "            #We remove the useless part\n",
    "            temp=link[8:-1]\n",
    "            if temp !=file and [k,node.index(temp)] not in G:\n",
    "                G.append([k,node.index(temp)])\n",
    "    return G\n",
    "\n",
    "PageRank(WebGraph())"
   ]
  },
  {
   "cell_type": "markdown",
   "metadata": {},
   "source": [
    "## 3) Algorithm removing dead-ends from a directed graph G\n",
    "\n",
    "For a given oriented graph G, we will look for nodes with $\\delta_{out} =$0 : in that case, it is a dead-end. Then we remove all link to this node.\n",
    "So first we get the list of all nodes, and then we compute their $\\delta_{out}$. Then when the $\\delta_{out}$ is equal to zero we remove all the links and at last, we remove all the dead-ends"
   ]
  },
  {
   "cell_type": "code",
   "execution_count": 8,
   "metadata": {},
   "outputs": [],
   "source": [
    "def remove_dead_ends(G):\n",
    "    m=len(G)\n",
    "    list_node=[]\n",
    "    #Let's obtain a list of all nodes\n",
    "    for k in range(m):\n",
    "        if G[k][0] not in list_node:\n",
    "            list_node.append(G[k][0])\n",
    "        if G[k][1] not in list_node:\n",
    "            list_node.append(G[k][1])\n",
    "    #We need to compute delta_out, then we build a list [index of node, delta_out(node)]\n",
    "    list_delta_out=[]\n",
    "    for i in range(len(list_node)):\n",
    "        compt=0\n",
    "        for k in range(m):\n",
    "            if G[k][0]==list_node[i]:\n",
    "                compt+=1\n",
    "        list_delta_out.append([list_node[i],compt])\n",
    "    \n",
    "    #dead-ends are edges such that their delta_out is equal to zero\n",
    "    list_dead_ends=[]\n",
    "    test=0\n",
    "    for k in range(len(list_delta_out)):\n",
    "        if list_delta_out[k][1]==0:\n",
    "            #then this edge is a dead-end and we must remove all the link to this edge\n",
    "            test=1\n",
    "            for i in range(m):\n",
    "                if G[i][1]==list_delta_out[k][0]:\n",
    "                    list_dead_ends.append(i)\n",
    "    if test==0:\n",
    "        return G\n",
    "    else:\n",
    "        list_dead_ends.sort()\n",
    "        #Now let's remove the dead-ends at \"once\"\n",
    "        for i in range(len(list_dead_ends)):\n",
    "            del G[list_dead_ends[i]-i]\n",
    "        return remove_dead_ends(G)\n",
    "    "
   ]
  },
  {
   "cell_type": "markdown",
   "metadata": {},
   "source": [
    "Let us try the algorithm on the graph G_bis=[[1,2],[2,3],[3,4],[4,1],[1,5],[5,6],[6,1],[3,7]] (7 is a dead end)"
   ]
  },
  {
   "cell_type": "code",
   "execution_count": 9,
   "metadata": {},
   "outputs": [
    {
     "data": {
      "text/plain": [
       "[[1, 2], [2, 3], [3, 4], [4, 1], [1, 5], [5, 6], [6, 1]]"
      ]
     },
     "execution_count": 9,
     "metadata": {},
     "output_type": "execute_result"
    }
   ],
   "source": [
    "G_bis=[[1,2],[2,3],[3,4],[4,1],[1,5],[5,6],[6,1],[3,7]]\n",
    "remove_dead_ends(G_bis)    "
   ]
  }
 ],
 "metadata": {
  "kernelspec": {
   "display_name": "Python 3",
   "language": "python",
   "name": "python3"
  },
  "language_info": {
   "codemirror_mode": {
    "name": "ipython",
    "version": 3
   },
   "file_extension": ".py",
   "mimetype": "text/x-python",
   "name": "python",
   "nbconvert_exporter": "python",
   "pygments_lexer": "ipython3",
   "version": "3.7.0"
  }
 },
 "nbformat": 4,
 "nbformat_minor": 2
}
