{
 "cells": [
  {
   "cell_type": "markdown",
   "metadata": {},
   "source": [
    "# TP2 : Séparateurs à Vaste Marge\n",
    "\n",
    "## 1 Données\n",
    "\n",
    "Nous utiliserons la base de données breastcancer et utiliser la fonction fournie.\n",
    "\n"
   ]
  },
  {
   "cell_type": "code",
   "execution_count": 1,
   "metadata": {},
   "outputs": [],
   "source": [
    "import numpy as np\n",
    "import random\n",
    "\n",
    "def load_breastcancer(filename):\n",
    "    \"\"\"\n",
    "    Cette fonction lit le fichier filename, par exemple\n",
    "    filename = 'wdbc_M1_B0.data'\n",
    "    Elle retourne \n",
    "    X : une matrice de caracteristiques\n",
    "    y : un vecteur des classes tel que si y[i] = 1, la tumeur est maligne\n",
    "        et si y[i] = -1, la tumeur est benigne\n",
    "\n",
    "    Pour plus d'infos sur la base de donnees,\n",
    "    https://archive.ics.uci.edu/ml/datasets/Breast+Cancer+Wisconsin+%28Prognostic%29\n",
    "    \"\"\"\n",
    "\n",
    "    data = np.loadtxt(filename, delimiter=',')\n",
    "\n",
    "    # la colonne 0 ne nous interesse pas ici\n",
    "    y = data[:, 1] * 2 - 1\n",
    "    X = data[:, 2:]\n",
    "\n",
    "    # Standardisation de la matrice\n",
    "    X = X - np.mean(X, axis=0)\n",
    "    X = X / np.std(X, axis=0)\n",
    "\n",
    "    return X, y\n",
    "\n"
   ]
  },
  {
   "cell_type": "code",
   "execution_count": 2,
   "metadata": {},
   "outputs": [],
   "source": [
    "X,Y=load_breastcancer('wdbcM1B0.data')"
   ]
  },
  {
   "cell_type": "markdown",
   "metadata": {},
   "source": [
    "## 2 Méthode du sous-gradient\n",
    "\n",
    "### Question 2.1 \n",
    "\n",
    "Nous avons le problème suivant :\n",
    "\n",
    "$$min_{v \\in \\mathbb{R}^{m}, a \\in \\mathbb{R}, \\xi \\in \\mathbb{R}^{n}} \\frac{1}{2} \\sum_{j=1}^{m} v_{j}^{2} + c \\sum_{i=1}^{n} \\xi_{i}$$\n",
    "$$\\xi_{i} \\ge 0 ,\\; \\forall i \\in \\{ 1,...,n \\}$$\n",
    "$$\\xi_{i} \\ge 1 - y_{i}(x_{i}^{T}v + a), \\; \\forall i \\in \\{ 1,...,n \\}$$\n",
    "\n",
    "où $c=1$.\n",
    "\n",
    "Notons $f(v,a,\\xi) = \\frac{1}{2} \\sum_{j=1}^{m} v_{j}^{2} + c \\sum_{i=1}^{n} \\xi_{i}$ définie sur $D_{f}=\\{ \\xi : \\xi_{i} \\ge 0 ,\\xi_{i} \\ge 1 - y_{i}(x_{i}^{T}v + a), \\; \\forall i \\in \\{ 1,...,n \\} \\}$. $f(v,a,.)$ est croissante sur $D_{f}$. \n",
    "\n",
    "Notons $\\xi_{min} = (max(0,1 - y_{i}(x_{i}^{T}v + a))_{1 \\le i \\le n}$. On a $f(v,a,\\xi) \\ge f(v,a,\\xi_{min})$ par croissance de $f(v,a,.)$.\n",
    "\n",
    "Donc $min_{v \\in \\mathbb{R}^{m}, a \\in \\mathbb{R}, \\xi \\in \\mathbb{R}^{n}} f(v,a,\\xi) \\ge min_{v \\in \\mathbb{R}^{m}, a \\in \\mathbb{R}, \\xi \\in \\mathbb{R}^{n}} f(v,a,\\xi_{min}) = min_{v \\in \\mathbb{R}^{m}, a \\in \\mathbb{R}} f(v,a,\\xi_{min}) \\qquad (1)$\n",
    "\n",
    "Par ailleurs, pour toute fonction $g : A \\times B \\rightarrow \\mathbb{R}$, $min_{a,b} g(a,b) \\le min_{a} g(a,\\beta) \\; \\forall \\beta \\in B$. En prenant $g=f$, $A=\\mathbb{R}^{m} \\times \\mathbb{R}$ et $B=\\mathbb{R}^{n}$ :\n",
    "\n",
    "$$min_{v \\in \\mathbb{R}^{m}, a \\in \\mathbb{R}, \\xi \\in \\mathbb{R}^{n}} f(v,a,\\xi) \\le min_{v \\in \\mathbb{R}^{m}, a \\in \\mathbb{R}, \\xi \\in \\mathbb{R}^{n}} f(v,a,\\xi_{min}) = min_{v \\in \\mathbb{R}^{m}, a \\in \\mathbb{R}} f(v,a,\\xi_{min}) \\qquad (2)$$\n",
    "\n",
    "Ainsi, d'après (1) et (2), $min_{v \\in \\mathbb{R}^{m}, a \\in \\mathbb{R}, \\xi \\in \\mathbb{R}^{n}} f(v,a,\\xi) = min_{v \\in \\mathbb{R}^{m}, a \\in \\mathbb{R}, \\xi \\in \\mathbb{R}^{n}} f(v,a,\\xi_{min}) = min_{v \\in \\mathbb{R}^{m}, a \\in \\mathbb{R}} f(v,a,\\xi_{min})$ et donc les deux problèmes sont équivalents"
   ]
  },
  {
   "cell_type": "markdown",
   "metadata": {},
   "source": [
    "## Question 2.2"
   ]
  },
  {
   "cell_type": "code",
   "execution_count": 3,
   "metadata": {},
   "outputs": [],
   "source": [
    "import matplotlib.pyplot as plt"
   ]
  },
  {
   "cell_type": "code",
   "execution_count": 4,
   "metadata": {},
   "outputs": [
    {
     "data": {
      "image/png": "[encoded data removed]",
      "text/plain": [
       "<Figure size 432x288 with 1 Axes>"
      ]
     },
     "metadata": {
      "needs_background": "light"
     },
     "output_type": "display_data"
    }
   ],
   "source": [
    "def h(z):\n",
    "    return np.maximum(np.zeros(len(z)),1-z)\n",
    "\n",
    "z=np.arange(-8,12,0.1)\n",
    "plt.figure()\n",
    "plt.plot(z,h(z),label='h(z)',color='red')\n",
    "plt.plot([-8,12], [-0.2,-.2], color = 'blue', label = \"sub_diff(h, 1)\")\n",
    "plt.plot([-8,12], [8.8, -11.2], color = 'blue')\n",
    "plt.plot([-8,12], [4.3, -5.7], color = 'blue')\n",
    "plt.plot([-8,12], [9*3/4-0.2,-11*3/4 -0.2], color = 'blue')\n",
    "plt.plot([-8,12], [9/4-0.2,-11/4 -0.2], color = 'blue')\n",
    "plt.legend()\n",
    "plt.show()\n"
   ]
  },
  {
   "cell_type": "markdown",
   "metadata": {},
   "source": [
    "h est différentiable partout sauf en 1 et on a : $\\forall z \\in \\mathbb{b}, z \\neq 1, \\partial h(z) = \\frac{\\partial h(z)}{\\partial z} = sgn(1-z)$. Pour $z=1$, on constate que toutes les pentes entre -1 et 1 conviennent. "
   ]
  },
  {
   "cell_type": "markdown",
   "metadata": {},
   "source": [
    "## Question 2.3"
   ]
  },
  {
   "cell_type": "markdown",
   "metadata": {},
   "source": [
    "Définissons N tel que  $N(v,a)=\\frac{1}{2} ||v||^{2} = \\frac{1}{2} \\sum_{i=1}^{m} v_{i}^{2}$. N est bien séparable (et convexe).\n",
    "\n",
    "Définissons H tel que $H(z) = \\sum_{i=1}^{n} h(z_{i})$. H est de même séparable (convexe et différentiable également).\n",
    "\n",
    "Enfin définissons M tel que \n",
    "$M= \n",
    "\\begin{pmatrix}\n",
    "y_{1} & &0 \\\\\n",
    "& \\ddots & \\\\\n",
    "0 & & y_{n}\n",
    "\\end{pmatrix} \n",
    "\\times \n",
    "\\begin{pmatrix}\n",
    "X, & \\begin{pmatrix} 1\\\\ \\vdots \\\\ 1 \\end{pmatrix} \\\\\n",
    "\\end{pmatrix}$\n",
    " M est un opérateur linéaire et on a : $M(v,a)=\\begin{pmatrix} y_{1}(x_{1}^{T}v+a) \\\\ \\vdots \\\\ y_{n}(x_{n}^{T}v+a) \\end{pmatrix}$\n",
    " \n",
    " M est bien une application linéaire.\n",
    " \n",
    "Ainsi, on a bien $f(v,a)=N(v, a) +cH(M(v, a))$.\n",
    "\n",
    "D'après la proposition 2.4.2 du cours, les conditions étant réunies, on a :\n",
    "\n",
    "$$\\partial f(v,a) = \\partial N(v,a) + c M^{T} \\partial H(M(v,a)) $$\n",
    "\n",
    "N étant différentiable, on a $\\partial N(v,a) = \\{ (\\nabla N(v), \\nabla N(a)) \\}$, i.e. $\\partial N(v,a) = \\{ (v,0) \\}$. \n",
    "\n",
    "Par ailleurs, H étant séparable, on a $\\partial H(z) = \\partial h(z_{1}) \\times ... \\times \\partial h(z_{n})$."
   ]
  },
  {
   "cell_type": "markdown",
   "metadata": {},
   "source": [
    "## Question 2.4 \n",
    "\n"
   ]
  },
  {
   "cell_type": "code",
   "execution_count": 5,
   "metadata": {},
   "outputs": [],
   "source": [
    "c=1\n",
    "n=len(Y)\n",
    "Mat=np.diag(Y) @ np.concatenate((X,np.ones((n,1))),axis=1)\n",
    "\n",
    "def N(va):\n",
    "    return 0.5*np.sum(va[:-1]**2)\n",
    "\n",
    "def H(z):\n",
    "    return np.sum(h(z))\n",
    "\n",
    "def M(va):\n",
    "    return Mat @ (va)\n",
    "    \n",
    "def f(va):\n",
    "    return N(va)+c*H(M(va))\n",
    "\n",
    "def d_N(va):\n",
    "    va[len(va)-1]=0\n",
    "    return va\n",
    "\n",
    "def d_H(z):\n",
    "    result=[]\n",
    "    m=len(z)\n",
    "    for i in range(m):\n",
    "        if z[i]<1:\n",
    "            result.append((-1))\n",
    "        if z[i]>1:\n",
    "            result.append((1))\n",
    "        if z[i]==1:\n",
    "            result.append(random.randrange(-1,0)) #We select a subgradient\n",
    "    return result\n",
    "\n",
    "\n",
    "def d_f(va):\n",
    "    #return an element of the subgradient\n",
    "    return [d_N(va)[i]+(np.transpose(c*Mat) @ d_H(M(va)))[i] for i in range(len(d_N(va)))]"
   ]
  },
  {
   "cell_type": "markdown",
   "metadata": {},
   "source": [
    "## Question 2.5"
   ]
  },
  {
   "cell_type": "code",
   "execution_count": 6,
   "metadata": {},
   "outputs": [
    {
     "name": "stdout",
     "output_type": "stream",
     "text": [
      "Minimiseur obtenu= [-0.2563311   0.13318085 -0.24154662 -0.1370914  -0.09593255 -0.59240781\n",
      "  0.22236272  0.30909915 -0.07430238 -0.1197459   0.23308399 -0.30393255\n",
      " -0.09976162 -0.02486787  0.01301957 -0.14483386 -0.02199856 -0.20006718\n",
      " -0.20131629  0.11058338  0.14314164  0.20896945  0.01168679  0.00263704\n",
      "  0.17733056 -0.67268217 -0.00222325 -0.19902352  0.16136092 -0.18113663\n",
      "  0.115     ]\n",
      "\n",
      "Minimum= 1018.2140.\n",
      "\n"
     ]
    }
   ],
   "source": [
    "def subgradient_method(va0,nombre_iter):\n",
    "    vak=va0\n",
    "    list_gamma=[]\n",
    "    list_x=[vak]\n",
    "    res=[0]*len(vak)\n",
    "    for k in range(nombre_iter):\n",
    "        gk=d_f(vak)\n",
    "        gammak=1/(k+1)\n",
    "        list_gamma.append(gammak)\n",
    "        temp=[i*gammak for i in gk]\n",
    "        for i in range(len(vak)):\n",
    "            vak[i]=vak[i]-temp[i]\n",
    "        list_x.append(vak)\n",
    "        for i in range(len(res)):\n",
    "            res[i]=np.multiply(list_gamma,np.array(list_x[:-1])[:,i]).sum(0)/np.sum(list_gamma)\n",
    "    return np.array(res)\n",
    "\n",
    "minimiseur=subgradient_method([0]*31,1000)\n",
    "\n",
    "print('Minimiseur obtenu=', minimiseur)\n",
    "print('\\nMinimum= {:.4f}.\\n'.format(f(minimiseur)))"
   ]
  },
  {
   "cell_type": "markdown",
   "metadata": {},
   "source": [
    "## Méthode du sous-gradient stochastique\n",
    "\n",
    "### Question 3.1"
   ]
  },
  {
   "cell_type": "markdown",
   "metadata": {},
   "source": [
    "On a :\n",
    "    \n",
    "$$\\mathbb{E}[f_{I}(v,a)]=\\frac{1}{2} \\sum_{j=1}^{m} v_{j}^{2} + c n \\mathbb{E}[max(0,y_{I}(x_{I}^{T}v+a))]  \\qquad par linéarité$$\n",
    "\n",
    "Puis : \n",
    "\n",
    "$$\\mathbb{E}[max(0,y_{I}(x_{I}^{T}v+a))]= \\sum_{i=1}^{n} \\mathbb{P}(I = i) max(0,y_{i}(x_{i}^{T}v+a)) = \\frac{1}{n} \\sum_{i=1}^{n}max(0,y_{i}(x_{i}^{T}v+a))$$\n",
    "\n",
    "Donc on a bien $$\\mathbb{E}[f_{I}(v,a)]=f(v,a)$$"
   ]
  },
  {
   "cell_type": "markdown",
   "metadata": {},
   "source": [
    "## Question 3.2\n",
    "\n",
    "Posons $\\tilde{M_{i}}=y_{i}(x_{i}^{T},1)$ opérateur linéaire. On a : $\\tilde{M_{i}}(v,a)=y_{i}(x_{i}^{T}v+a)$\n",
    "\n",
    "On a donc $f_{i}(v,a)=N(v,a) + c n h(\\tilde{M_{i}}(v,a))$.\n",
    "\n",
    "Toujours selon la propriété 2.4.2 du cours, nous avons :\n",
    "\n",
    "$$\\partial f_{i}(v,a) = \\partial N(v,a) + cn \\tilde{M_{i}}^{T} \\partial h(\\tilde{M_{i}}(v,a))$$\n",
    "\n",
    "et donc :\n",
    "\n",
    "$$\\partial f_{i}(v,a) = \n",
    "\\left\\{\n",
    "    \\begin{array}{ll}\n",
    "        (v,0) - cn\\tilde{M_{i}}^{T} & \\mbox{si } \\tilde{M_{i}}(v,a) < 1 \\\\\n",
    "        (v,0) + \\alpha cn\\tilde{M_{i}}^{T}, \\, \\alpha \\in [-1,0] & \\mbox{si } \\tilde{M_{i}}(v,a) = 1 \\\\\n",
    "        (v,0) & \\mbox{si } \\tilde{M_{i}}(v,a) > 1 \\\\\n",
    "    \\end{array}\n",
    "\\right.\n",
    "$$"
   ]
  },
  {
   "cell_type": "markdown",
   "metadata": {},
   "source": [
    "## Question 3.3\n",
    "\n"
   ]
  },
  {
   "cell_type": "code",
   "execution_count": 7,
   "metadata": {},
   "outputs": [
    {
     "name": "stdout",
     "output_type": "stream",
     "text": [
      "Minimiseur obtenu= [  81.08788803 -166.67497211   84.04802072   74.88354104  173.34160931\n",
      "  117.56134646   84.8694345   110.23769798  -33.91152798   80.93737663\n",
      "   97.15772791   42.42439143   83.27552667   68.15685339   95.57959444\n",
      "   39.75960435   43.68145145  113.91564196   51.87390324   49.66290064\n",
      "   90.39176264 -110.44103393   84.85877802   78.58894042  164.70860832\n",
      "   68.55675419   79.0145516   138.55027997    4.54540611   63.90496041\n",
      "    0.        ]\n"
     ]
    }
   ],
   "source": [
    "def d_h_M_tilde(va,i):\n",
    "    if Mat[i,:] @ va <1:\n",
    "        return [(-c)*Mat.shape[0]*elem for elem in Mat[i,:]]\n",
    "    if Mat[i,:] @ va == 1:\n",
    "        return [np.randrange(-1,0)*c*Mat.shape[0]*elem for elem in Mat[i,:]]\n",
    "    else:\n",
    "        return 0\n",
    "    \n",
    "def d_fi(va,i):\n",
    "    if d_h_M_tilde(va,i)==0:\n",
    "        return d_N(va)\n",
    "    else:\n",
    "        return d_N(va)+np.array(d_h_M_tilde(va,i))\n",
    "\n",
    "def sous_grad_stoch(va0,N):\n",
    "    n=Mat.shape[0]\n",
    "    vak=va0\n",
    "    gamma_sum=0\n",
    "    ponder=0\n",
    "    for k in range(N):\n",
    "        gammak=1/(k+1)\n",
    "        gamma_sum+=gammak\n",
    "        i=random.randint(1,n)\n",
    "        gk=d_fi(vak,i)\n",
    "        ponder+=gammak*vak\n",
    "        vak-=gammak*gk\n",
    "    return (1/gamma_sum)*ponder\n",
    "        \n",
    "minim=sous_grad_stoch(np.zeros(31),200)\n",
    "print('Minimiseur obtenu=', minim)"
   ]
  },
  {
   "cell_type": "code",
   "execution_count": 8,
   "metadata": {},
   "outputs": [
    {
     "name": "stdout",
     "output_type": "stream",
     "text": [
      "Minimum associé au problème 2 = 185525.4649753602\n"
     ]
    }
   ],
   "source": [
    "minimum=f(minim)\n",
    "print('Minimum associé au problème 2 =', minimum)"
   ]
  },
  {
   "cell_type": "markdown",
   "metadata": {},
   "source": [
    "Le minimum et le minimiseur peuvent être susceptible de varier dans la mesure où nous prenons un élément aléatoire de la sous-différentielle. "
   ]
  },
  {
   "cell_type": "markdown",
   "metadata": {},
   "source": [
    "## Méthode du lagrangien augmenté\n",
    "\n",
    "### Question 4.1\n",
    "\n",
    "Pour le problème (1), nous avons les conditions : $g(v,a,\\xi)=(\\xi_{1},...,\\xi_{n},1-\\xi_{1}-y_{1}(x_{1}^{T}v+a), 1-\\xi_{n}-y_{n}(x_{n}^{T}v+a)) \\leq 0$\n",
    "\n",
    "Le lagrangien associé au problème (1) est donné par :\n",
    "\n",
    "$$L : \\mathbb{R}^{m} \\times \\mathbb{R} \\times \\mathbb{R}^{n} \\times \\mathbb{R}^{2n} \\rightarrow \\mathbb{R}$$\n",
    "\n",
    "$$(v,a,\\xi,\\phi) \\rightarrow f(v,a,\\xi) + <\\phi,g(v,a,\\xi)> -\\iota_{\\mathbb{R}^{2n}}(\\phi)$$\n",
    "\n",
    "C'est-à-dire :\n",
    "\n",
    "$$L(v,a,\\xi,\\phi)=\\frac{1}{2} \\sum_{j=1}^{m} v_{j}^{2} + c \\sum_{i=1}^{n} \\xi_{i} - \\sum_{i=1}^{n}\\phi_{i} \\xi_{i} + \\sum_{i=1}^{n}\\phi_{i+n}(1-\\xi_{i}-y_{i}(x_{i}^{T}v+a))$$"
   ]
  },
  {
   "cell_type": "markdown",
   "metadata": {},
   "source": [
    "## Question 4.2\n",
    "\n",
    "Fixons $\\phi$. Pour $x>-\\frac{\\phi}{\\rho}$, $g(x,\\phi)=\\frac{\\rho x^{2}}{2} + x \\phi$. Donc $g(.,\\phi)$ est dérivable sur $]-\\frac{\\phi}{\\rho}, \\infty[$ et $\\nabla_{x}g(x,\\phi)=\\rho x + \\phi$\n",
    "\n",
    "De même, sur $]-\\infty,-\\frac{\\phi}{\\rho}[$, $g(x,\\phi)=-\\frac{1}{2\\rho} \\phi^{2}$ et donc $\\nabla_{x}g(x,\\phi)=0$\n",
    "\n",
    "Par ailleurs, $lim_{x \\rightarrow -\\frac{\\phi}{\\rho}_{-}} \\nabla_{x}g(x,\\phi) = lim_{x \\rightarrow -\\frac{\\phi}{\\rho}_{+}} \\nabla_{x}g(x,\\phi) =0$. Donc $g(.,\\phi)$ est dérivable sur $\\mathbb{R}$ et on a :\n",
    "\n",
    "$$\\nabla_{x}g(x,\\phi)=\n",
    "\\left\\{\n",
    "    \\begin{array}{ll}\n",
    "        0 & \\mbox{si } x \\leq -\\frac{\\phi}{\\rho} \\\\\n",
    "        \\rho x + \\phi & \\mbox{si } x>-\\frac{\\phi}{\\rho} \\\\\n",
    "    \\end{array}\n",
    "\\right.$$\n",
    "\n",
    "i.e : $$\\nabla_{x}g(x,\\phi)=\\rho max(0,x+\\frac{\\phi}{\\rho})$$\n",
    "\n",
    "De même, pour $g(x,.)$ on prolonge par continuité $\\nabla_{\\phi}g$ et on a :\n",
    "\n",
    "$$\\nabla_{\\phi}g(x,\\phi)=\n",
    "\\left\\{\n",
    "    \\begin{array}{ll}\n",
    "        0 & \\mbox{si } \\phi \\geq -x\\rho \\\\\n",
    "        -\\frac{\\phi}{\\rho} & \\mbox{si } \\phi < -x\\rho \\\\\n",
    "    \\end{array}\n",
    "\\right.$$\n",
    "\n",
    "i.e. :\n",
    "$$\\nabla_{\\phi}g(x,\\phi)=max(-\\frac{\\phi}{\\rho},x)$$\n"
   ]
  },
  {
   "cell_type": "markdown",
   "metadata": {},
   "source": [
    "## Question 4.3\n",
    "\n",
    "La fonction $x \\longmapsto g(x,\\phi)$ pour $\\phi$ fixé a pour dérivée $\\nabla_{x}g(.,\\phi)$ qui est croissante d'après l'expression obtenue à la question précédente. Par conséquent, $x \\longmapsto g(x,\\phi)$ est convexe.\n",
    "\n",
    "De même $\\phi \\longmapsto g(x,\\phi)$ pour x fixé a pour dérivée $\\nabla_{\\phi}g(x,.)$ qui est décroissante d'après l'expression obtenue à la question précédente. Par conséquent, $\\phi \\longmapsto g(x,\\phi)$ est concave."
   ]
  },
  {
   "cell_type": "markdown",
   "metadata": {},
   "source": [
    "## Question 4.4\n",
    "\n",
    "Déterminons les expressions des gradients nécessaires. On a :\n",
    "\n",
    "$$\\nabla_{v}L(v,a,\\xi,\\phi_{k},\\psi_{k})=v- (\n",
    "\\begin{pmatrix}\n",
    "y_{1} & &0 \\\\\n",
    "& \\ddots & \\\\\n",
    "0 & & y_{n}\n",
    "\\end{pmatrix} \n",
    "\\times\n",
    "X)^{T}\n",
    "\\begin{pmatrix} \\nabla_{x}g(1-\\xi_{1}-y_{1}(x_{1}^{T}v+a),\\psi_{1})\\\\ \\vdots \\\\ \\nabla_{x}g(1-\\xi_{n}-y_{n}(x_{n}^{T}v+a),\\psi_{n})\n",
    "\\end{pmatrix} $$\n",
    "\n",
    "$$\\nabla_{a}L(v,a,\\xi,\\phi_{k},\\psi_{k})=-\\sum_{i=1}^{n} y_{i} \\nabla_{x}g(1-\\xi_{i}-y_{i}(x_{i}^{T}v+a),\\psi_{i})$$\n",
    "\n",
    "et \n",
    "\n",
    "$$\\nabla_{\\xi}L(v,a,\\xi,\\phi_{k},\\psi_{k})=\n",
    "\\begin{pmatrix} \n",
    "c-\\nabla_{x}g(-\\xi_{1},\\phi_{1})-\\nabla_{x}g(1-\\xi_{1}-y_{1}(x_{1}^{T}v+a),\\psi_{1})\\\\ \\vdots \\\\ c-\\nabla_{x}g(-\\xi_{n},\\phi_{n})-\\nabla_{x}g(1-\\xi_{n}-y_{n}(x_{n}^{T}v+a),\\psi_{n})\n",
    "\\end{pmatrix}$$"
   ]
  },
  {
   "cell_type": "code",
   "execution_count": 9,
   "metadata": {},
   "outputs": [],
   "source": [
    "rho=2\n",
    "epsilon=1\n",
    "\n",
    "def g(x,phi):\n",
    "    return (-(phi**2)/(2*rho))+rho*(np.maximum(0,x+(phi/rho))**2)/rho\n",
    "\n",
    "def L_rho(v,a,xi,phi,psi):\n",
    "    return 0.5*np.sum(v**2)+c*np.sum(xi)+np.sum(g(-xi,phi))+np.sum(g(-xi+1-M(np.insert(v, len(v)-1, a, axis=0)),psi))\n",
    "    \n",
    "def nabla_x_g(x,phi):\n",
    "    return rho*np.maximum(0,x+(phi/rho))\n",
    "\n",
    "def gradient_lin(v0,a0,xi0,phi,psi):\n",
    "    vk=v0\n",
    "    ak=a0\n",
    "    xik=xi0\n",
    "    b=10\n",
    "    a=0.5\n",
    "    x = 1-xik-np.dot(np.diag(Y), np.dot(X, vk) + a)\n",
    "    grad_v=vk-np.dot(np.dot(np.diag(Y), X).T, nabla_x_g(x, psi))\n",
    "    grad_a=-np.sum(Y * nabla_x_g(x,psi))\n",
    "    grad_xi=c - nabla_x_g(-xik, phi) - nabla_x_g(x, psi)\n",
    "    while np.sum(grad_v**2)+grad_a**2+np.sum(grad_xi**2)>epsilon:\n",
    "        l=1\n",
    "        v_plus=vk-(b*(a**l))*grad_v\n",
    "        a_plus=ak-(b*(a**l))*grad_a\n",
    "        xi_plus=xik-(b*(a**l))*grad_xi\n",
    "        while L_rho(v_plus,a_plus,xi_plus,phi,psi)>L_rho(vk,ak,xik,phi,psi)+np.sum(grad_v*(v_plus-vk))+np.sum(grad_a*(a_plus-ak))+np.sum(grad_xi*(xi_plus-xik))+0.5*(b*(a**l))*(np.sum((v_plus-vk)**2)+np.sum((a_plus-ak)**2)+np.sum((xi_plus-xik)**2)):\n",
    "            l+=1\n",
    "        gammak=b*(a**l)\n",
    "        vk-=gammak*grad_v\n",
    "        ak-=gammak*grad_a\n",
    "        xi_plus=gammak*grad_xi\n",
    "        x = 1-xik-np.dot(np.diag(Y), np.dot(X, vk) + a)\n",
    "        grad_v=vk-np.dot(np.dot(np.diag(Y), X).T, nabla_x_g(x, psi))\n",
    "        grad_a=-np.sum(Y * nabla_x_g(x,psi))\n",
    "        grad_xi=c - nabla_x_g(-xik, phi) - nabla_x_g(x, psi)\n",
    "    return vk,ak,xik"
   ]
  },
  {
   "cell_type": "markdown",
   "metadata": {},
   "source": [
    "## Question 4.5"
   ]
  },
  {
   "cell_type": "code",
   "execution_count": 10,
   "metadata": {},
   "outputs": [],
   "source": [
    "def nabla_phi_psi_L(v,a,xi,phi,psi):\n",
    "    nabla_phi=np.maximum(-(1/rho)*phi,-xi)\n",
    "    x = 1-xi-np.dot(np.diag(y), np.dot(X, v) + a)\n",
    "    nabla_psi=np.maximum(-(1/rho)*phi,x)\n",
    "    return nabla_phi,nabla_psi"
   ]
  },
  {
   "cell_type": "markdown",
   "metadata": {},
   "source": [
    "## Question 4.6"
   ]
  },
  {
   "cell_type": "code",
   "execution_count": null,
   "metadata": {},
   "outputs": [],
   "source": [
    "def augmented_lagrangian(v,a,xi,phi,psi,N):\n",
    "    vk,ak,xik,psik,phik=v,a,xi,psi,phi\n",
    "    for i in range(N):\n",
    "        vk,ak,xik=gradient_lin(vk,ak,xik,phik,psik)\n",
    "        nabla_phi,nabla_psi=nabla_phi_psi_L(vk,ak,xik,phik,psik)\n",
    "        phik+=rho*nabla_phi\n",
    "        psik+=rho*nabla_psi\n",
    "    return vk,ak,xik,phik,psik\n",
    "\n",
    "augmented_lagrangian(np.zeros((30,)),0,np.zeros((569,)),np.zeros((569,)),np.zeros((569,)),2000)"
   ]
  },
  {
   "cell_type": "markdown",
   "metadata": {},
   "source": [
    "# 5 Comparaison\n",
    "\n",
    "## Question 5.1\n",
    "\n",
    "Comparons les différents algorithmes utilisés. Pour cela, ce serait bien que la méthode du lagrangien augmenté se termine, 2000 itérations c'est peut-être beaucoup quand même, surtout si on fait de la recherche linéaire en plus."
   ]
  }
 ],
 "metadata": {
  "kernelspec": {
   "display_name": "Python 3",
   "language": "python",
   "name": "python3"
  },
  "language_info": {
   "codemirror_mode": {
    "name": "ipython",
    "version": 3
   },
   "file_extension": ".py",
   "mimetype": "text/x-python",
   "name": "python",
   "nbconvert_exporter": "python",
   "pygments_lexer": "ipython3",
   "version": "3.7.0"
  }
 },
 "nbformat": 4,
 "nbformat_minor": 2
}
