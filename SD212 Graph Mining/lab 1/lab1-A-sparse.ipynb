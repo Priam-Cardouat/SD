{
 "cells": [
  {
   "cell_type": "markdown",
   "metadata": {},
   "source": [
    "# SD212: Graph mining\n",
    "\n",
    "# Lab 1: Sparse matrices"
   ]
  },
  {
   "cell_type": "markdown",
   "metadata": {},
   "source": [
    "The objective of this lab is to understand the structure and main properties of [sparse matrices](https://en.wikipedia.org/wiki/Sparse_matrix).\n",
    "\n",
    "You will learn to code your own sparse matrices to understand their underlying structure. <br>Note that in the other labs, we will only use sparse matrices of [SciPy](https://www.scipy.org/scipylib/index.html). "
   ]
  },
  {
   "cell_type": "markdown",
   "metadata": {},
   "source": [
    "## Import"
   ]
  },
  {
   "cell_type": "code",
   "execution_count": 1,
   "metadata": {},
   "outputs": [],
   "source": [
    "import numpy as np"
   ]
  },
  {
   "cell_type": "code",
   "execution_count": 2,
   "metadata": {},
   "outputs": [],
   "source": [
    "from scipy import sparse"
   ]
  },
  {
   "cell_type": "markdown",
   "metadata": {},
   "source": [
    "## Coordinate format"
   ]
  },
  {
   "cell_type": "code",
   "execution_count": 3,
   "metadata": {},
   "outputs": [],
   "source": [
    "# random matrix (dense format)\n",
    "A_dense = np.random.randint(2, size = (5,10))"
   ]
  },
  {
   "cell_type": "code",
   "execution_count": 4,
   "metadata": {},
   "outputs": [
    {
     "data": {
      "text/plain": [
       "array([[0, 0, 1, 1, 1, 0, 0, 0, 1, 0],\n",
       "       [0, 1, 0, 0, 0, 0, 1, 0, 1, 1],\n",
       "       [1, 0, 0, 0, 1, 0, 1, 0, 0, 0],\n",
       "       [0, 0, 1, 1, 1, 0, 0, 1, 1, 0],\n",
       "       [1, 0, 0, 1, 0, 0, 1, 0, 1, 1]])"
      ]
     },
     "execution_count": 4,
     "metadata": {},
     "output_type": "execute_result"
    }
   ],
   "source": [
    "A_dense"
   ]
  },
  {
   "cell_type": "code",
   "execution_count": 5,
   "metadata": {},
   "outputs": [],
   "source": [
    "A_coo = sparse.coo_matrix(A_dense)"
   ]
  },
  {
   "cell_type": "code",
   "execution_count": 6,
   "metadata": {},
   "outputs": [
    {
     "data": {
      "text/plain": [
       "<5x10 sparse matrix of type '<class 'numpy.int32'>'\n",
       "\twith 21 stored elements in COOrdinate format>"
      ]
     },
     "execution_count": 6,
     "metadata": {},
     "output_type": "execute_result"
    }
   ],
   "source": [
    "A_coo"
   ]
  },
  {
   "cell_type": "code",
   "execution_count": 7,
   "metadata": {},
   "outputs": [
    {
     "data": {
      "text/plain": [
       "(5, 10)"
      ]
     },
     "execution_count": 7,
     "metadata": {},
     "output_type": "execute_result"
    }
   ],
   "source": [
    "A_coo.shape"
   ]
  },
  {
   "cell_type": "code",
   "execution_count": 8,
   "metadata": {},
   "outputs": [
    {
     "data": {
      "text/plain": [
       "21"
      ]
     },
     "execution_count": 8,
     "metadata": {},
     "output_type": "execute_result"
    }
   ],
   "source": [
    "A_coo.nnz"
   ]
  },
  {
   "cell_type": "code",
   "execution_count": 9,
   "metadata": {},
   "outputs": [
    {
     "name": "stdout",
     "output_type": "stream",
     "text": [
      "[0 0 0 0 1 1 1 1 2 2 2 3 3 3 3 3 4 4 4 4 4]\n",
      "[2 3 4 8 1 6 8 9 0 4 6 2 3 4 7 8 0 3 6 8 9]\n",
      "[1 1 1 1 1 1 1 1 1 1 1 1 1 1 1 1 1 1 1 1 1]\n"
     ]
    }
   ],
   "source": [
    "print(A_coo.row)\n",
    "print(A_coo.col)\n",
    "print(A_coo.data)"
   ]
  },
  {
   "cell_type": "code",
   "execution_count": 10,
   "metadata": {},
   "outputs": [],
   "source": [
    "# there might be zeros in data!\n",
    "row = A_coo.row\n",
    "col = A_coo.col\n",
    "data = np.random.randint(5, size=len(A_coo.data))\n",
    "shape = A_coo.shape"
   ]
  },
  {
   "cell_type": "code",
   "execution_count": 11,
   "metadata": {},
   "outputs": [],
   "source": [
    "B_coo = sparse.coo_matrix((data, (row, col)), shape)"
   ]
  },
  {
   "cell_type": "code",
   "execution_count": 12,
   "metadata": {},
   "outputs": [
    {
     "data": {
      "text/plain": [
       "<5x10 sparse matrix of type '<class 'numpy.int32'>'\n",
       "\twith 21 stored elements in COOrdinate format>"
      ]
     },
     "execution_count": 12,
     "metadata": {},
     "output_type": "execute_result"
    }
   ],
   "source": [
    "B_coo"
   ]
  },
  {
   "cell_type": "code",
   "execution_count": 13,
   "metadata": {},
   "outputs": [
    {
     "data": {
      "text/plain": [
       "array([[0, 0, 4, 2, 1, 0, 0, 0, 0, 0],\n",
       "       [0, 1, 0, 0, 0, 0, 3, 0, 4, 4],\n",
       "       [3, 0, 0, 0, 2, 0, 3, 0, 0, 0],\n",
       "       [0, 0, 4, 3, 0, 0, 0, 1, 3, 0],\n",
       "       [2, 0, 0, 3, 0, 0, 4, 0, 4, 2]])"
      ]
     },
     "execution_count": 13,
     "metadata": {},
     "output_type": "execute_result"
    }
   ],
   "source": [
    "B_coo.toarray()"
   ]
  },
  {
   "cell_type": "code",
   "execution_count": 14,
   "metadata": {},
   "outputs": [
    {
     "data": {
      "text/plain": [
       "21"
      ]
     },
     "execution_count": 14,
     "metadata": {},
     "output_type": "execute_result"
    }
   ],
   "source": [
    "B_coo.nnz"
   ]
  },
  {
   "cell_type": "code",
   "execution_count": 15,
   "metadata": {},
   "outputs": [
    {
     "data": {
      "text/plain": [
       "19"
      ]
     },
     "execution_count": 15,
     "metadata": {},
     "output_type": "execute_result"
    }
   ],
   "source": [
    "np.sum(B_coo.data > 0)"
   ]
  },
  {
   "cell_type": "code",
   "execution_count": 16,
   "metadata": {},
   "outputs": [],
   "source": [
    "B_coo.eliminate_zeros()"
   ]
  },
  {
   "cell_type": "code",
   "execution_count": 17,
   "metadata": {},
   "outputs": [
    {
     "data": {
      "text/plain": [
       "<5x10 sparse matrix of type '<class 'numpy.int32'>'\n",
       "\twith 19 stored elements in COOrdinate format>"
      ]
     },
     "execution_count": 17,
     "metadata": {},
     "output_type": "execute_result"
    }
   ],
   "source": [
    "B_coo"
   ]
  },
  {
   "cell_type": "markdown",
   "metadata": {},
   "source": [
    "## To do"
   ]
  },
  {
   "cell_type": "markdown",
   "metadata": {},
   "source": [
    "Complete the function below that converts a dense matrix into a sparse matrix in COO format. \n",
    "\n",
    "Needless to say...\n",
    "* don't use `scipy`\n",
    "* don't use any loop\n",
    "\n",
    "**Hint:** Use `np.nonzero`"
   ]
  },
  {
   "cell_type": "code",
   "execution_count": 18,
   "metadata": {},
   "outputs": [],
   "source": [
    "class SparseCOO():\n",
    "    def __init__(self, data: np.ndarray, row: np.ndarray, col: np.ndarray, shape: tuple):\n",
    "        self.data = data\n",
    "        self.row = row\n",
    "        self.col = col\n",
    "        self.shape = shape"
   ]
  },
  {
   "cell_type": "code",
   "execution_count": 19,
   "metadata": {},
   "outputs": [],
   "source": [
    "def dense_to_coo(A):\n",
    "    '''Convert dense matrix to sparse in COO format.\n",
    "    \n",
    "    Parameters\n",
    "    ----------\n",
    "    A : np.ndarray\n",
    "        Dense matrix\n",
    "        \n",
    "    Returns\n",
    "    -------\n",
    "    A_coo : SparseCOO\n",
    "        Sparse matrix in COO format.\n",
    "    '''\n",
    "    # to be modified\n",
    "    data = A[A.nonzero()]\n",
    "    row = A.nonzero()[0]\n",
    "    col = A.nonzero()[1] \n",
    "    shape = np.shape(A)\n",
    "    return SparseCOO(data, row, col, shape)"
   ]
  },
  {
   "cell_type": "code",
   "execution_count": 20,
   "metadata": {},
   "outputs": [],
   "source": [
    "def test_equality(A, B, attributes):\n",
    "    return [np.all(getattr(A, a) == getattr(B, a)) for a in attributes]"
   ]
  },
  {
   "cell_type": "code",
   "execution_count": 21,
   "metadata": {},
   "outputs": [],
   "source": [
    "# test\n",
    "A_dense = np.random.randint(2, size = (5,10))\n",
    "A_coo = sparse.coo_matrix(A_dense)\n",
    "A_coo_ = dense_to_coo(A_dense)"
   ]
  },
  {
   "cell_type": "code",
   "execution_count": 22,
   "metadata": {},
   "outputs": [
    {
     "data": {
      "text/plain": [
       "[True, True, True]"
      ]
     },
     "execution_count": 22,
     "metadata": {},
     "output_type": "execute_result"
    }
   ],
   "source": [
    "test_equality(A_coo, A_coo_, [\"data\", \"row\", \"col\"])"
   ]
  },
  {
   "cell_type": "markdown",
   "metadata": {},
   "source": [
    "## CSR format"
   ]
  },
  {
   "cell_type": "markdown",
   "metadata": {},
   "source": [
    "The CSR (Compressed Sparse Row) format is the most efficient for arithmetic operations (see below)."
   ]
  },
  {
   "cell_type": "code",
   "execution_count": 35,
   "metadata": {
    "scrolled": true
   },
   "outputs": [
    {
     "data": {
      "text/plain": [
       "array([[0, 1, 0, 0, 3],\n",
       "       [0, 0, 0, 0, 0],\n",
       "       [1, 2, 1, 0, 0]])"
      ]
     },
     "execution_count": 35,
     "metadata": {},
     "output_type": "execute_result"
    }
   ],
   "source": [
    "A_dense = np.array([[0,1,0,0,3],[0,0,0,0,0],[1,2,1,0,0]])\n",
    "A_dense"
   ]
  },
  {
   "cell_type": "code",
   "execution_count": 36,
   "metadata": {},
   "outputs": [],
   "source": [
    "A_csr = sparse.csr_matrix(A_dense)"
   ]
  },
  {
   "cell_type": "code",
   "execution_count": 37,
   "metadata": {},
   "outputs": [
    {
     "data": {
      "text/plain": [
       "<3x5 sparse matrix of type '<class 'numpy.intc'>'\n",
       "\twith 5 stored elements in Compressed Sparse Row format>"
      ]
     },
     "execution_count": 37,
     "metadata": {},
     "output_type": "execute_result"
    }
   ],
   "source": [
    "A_csr"
   ]
  },
  {
   "cell_type": "code",
   "execution_count": 38,
   "metadata": {},
   "outputs": [
    {
     "data": {
      "text/plain": [
       "(3, 5)"
      ]
     },
     "execution_count": 38,
     "metadata": {},
     "output_type": "execute_result"
    }
   ],
   "source": [
    "A_csr.shape"
   ]
  },
  {
   "cell_type": "code",
   "execution_count": 39,
   "metadata": {},
   "outputs": [
    {
     "data": {
      "text/plain": [
       "5"
      ]
     },
     "execution_count": 39,
     "metadata": {},
     "output_type": "execute_result"
    }
   ],
   "source": [
    "A_csr.nnz"
   ]
  },
  {
   "cell_type": "code",
   "execution_count": 40,
   "metadata": {},
   "outputs": [
    {
     "name": "stdout",
     "output_type": "stream",
     "text": [
      "[1 4 0 1 2]\n",
      "[0 2 2 5]\n",
      "[1 3 1 2 1]\n"
     ]
    }
   ],
   "source": [
    "print(A_csr.indices)\n",
    "print(A_csr.indptr)\n",
    "print(A_csr.data)"
   ]
  },
  {
   "cell_type": "code",
   "execution_count": null,
   "metadata": {},
   "outputs": [],
   "source": [
    "A_csr[3, 4]"
   ]
  },
  {
   "cell_type": "code",
   "execution_count": null,
   "metadata": {},
   "outputs": [],
   "source": [
    "A_csr[3]"
   ]
  },
  {
   "cell_type": "code",
   "execution_count": 31,
   "metadata": {},
   "outputs": [
    {
     "data": {
      "text/plain": [
       "array([[0, 0, 2, 0, 0],\n",
       "       [0, 1, 0, 0, 1],\n",
       "       [3, 0, 0, 0, 1]], dtype=int32)"
      ]
     },
     "execution_count": 31,
     "metadata": {},
     "output_type": "execute_result"
    }
   ],
   "source": [
    "A_csr.toarray()"
   ]
  },
  {
   "cell_type": "code",
   "execution_count": null,
   "metadata": {},
   "outputs": [],
   "source": [
    "# data might have zeros!\n",
    "indices = A_csr.indices\n",
    "indptr = A_csr.indptr\n",
    "data = np.random.randint(5, size=len(A_csr.data))\n",
    "shape = A_csr.shape"
   ]
  },
  {
   "cell_type": "code",
   "execution_count": null,
   "metadata": {},
   "outputs": [],
   "source": [
    "B_csr = sparse.csr_matrix((data, indices, indptr), shape)"
   ]
  },
  {
   "cell_type": "code",
   "execution_count": null,
   "metadata": {},
   "outputs": [],
   "source": [
    "B_csr"
   ]
  },
  {
   "cell_type": "code",
   "execution_count": null,
   "metadata": {},
   "outputs": [],
   "source": [
    "B_csr.eliminate_zeros()"
   ]
  },
  {
   "cell_type": "code",
   "execution_count": null,
   "metadata": {},
   "outputs": [],
   "source": [
    "B_csr"
   ]
  },
  {
   "cell_type": "code",
   "execution_count": 32,
   "metadata": {},
   "outputs": [],
   "source": [
    "# from COO format\n",
    "row = [0, 0, 1, 2, 2]\n",
    "col = [2, 3, 0, 1, 2]\n",
    "data = np.ones(5)\n",
    "A_csr = sparse.csr_matrix((data, (row, col)), shape = (3, 4))"
   ]
  },
  {
   "cell_type": "code",
   "execution_count": 33,
   "metadata": {},
   "outputs": [
    {
     "data": {
      "text/plain": [
       "array([[0., 0., 1., 1.],\n",
       "       [1., 0., 0., 0.],\n",
       "       [0., 1., 1., 0.]])"
      ]
     },
     "execution_count": 33,
     "metadata": {},
     "output_type": "execute_result"
    }
   ],
   "source": [
    "A_csr.toarray()"
   ]
  },
  {
   "cell_type": "code",
   "execution_count": null,
   "metadata": {},
   "outputs": [],
   "source": [
    "# equivalently\n",
    "A_coo = sparse.coo_matrix((data, (row, col)), shape = (3, 4))\n",
    "A_csr = sparse.csr_matrix(A_coo)"
   ]
  },
  {
   "cell_type": "code",
   "execution_count": null,
   "metadata": {},
   "outputs": [],
   "source": [
    "A_csr.toarray()"
   ]
  },
  {
   "cell_type": "markdown",
   "metadata": {},
   "source": [
    "## To do"
   ]
  },
  {
   "cell_type": "markdown",
   "metadata": {},
   "source": [
    "Complete the function below that converts a sparse matrix from COO format to CSR format.\n",
    "\n",
    "Again...\n",
    "* don't use `scipy`\n",
    "* don't use any loop\n",
    "\n",
    "**Hint:** Use ``np.unique`` and ``np.cumsum``."
   ]
  },
  {
   "cell_type": "code",
   "execution_count": null,
   "metadata": {},
   "outputs": [],
   "source": [
    "class SparseCSR():\n",
    "    def __init__(self, data: np.ndarray, indices: np.ndarray, indptr: np.ndarray, shape: tuple):\n",
    "        self.data = data\n",
    "        self.indices = indices\n",
    "        self.indptr = indptr\n",
    "        self.shape = shape"
   ]
  },
  {
   "cell_type": "code",
   "execution_count": null,
   "metadata": {},
   "outputs": [],
   "source": [
    "def coo_to_csr(A_coo):\n",
    "    '''Convert a sparse matrix from COO to CSR format.\n",
    "    \n",
    "    Parameters\n",
    "    ----------\n",
    "    A_coo : SparseCSR\n",
    "        Sparse matrix in COO format.\n",
    "        \n",
    "    Returns\n",
    "    -------\n",
    "    A_csr : SparseCSR\n",
    "        Sparse matrix in CSR format.\n",
    "    '''\n",
    "    # to be modified\n",
    "    data = A_coo.data\n",
    "    indices = A_coo.col\n",
    "    indptr = np.int32(np.concatenate((np.array([0]),np.cumsum(np.unique(A_coo.row, return_counts=True)[1]))))\n",
    "    shape = A_coo.shape\n",
    "    return SparseCSR(data, indices, indptr, shape)"
   ]
  },
  {
   "cell_type": "code",
   "execution_count": null,
   "metadata": {},
   "outputs": [],
   "source": [
    "def dense_to_csr(A):\n",
    "    '''Convert dense matrix to sparse in CSR format.\n",
    "    \n",
    "    Parameters\n",
    "    ----------\n",
    "    A : np.ndarray\n",
    "        Dense matrix\n",
    "        \n",
    "    Returns\n",
    "    -------\n",
    "    A_csr : SparseCSR\n",
    "        Sparse matrix in CSR format.\n",
    "    '''\n",
    "    return coo_to_csr(sparse.coo_matrix(A))"
   ]
  },
  {
   "cell_type": "code",
   "execution_count": null,
   "metadata": {
    "scrolled": true
   },
   "outputs": [],
   "source": [
    "# test\n",
    "A_dense = np.random.randint(2, size = (5,10))\n",
    "A_csr = sparse.csr_matrix(A_dense)\n",
    "A_csr_ = dense_to_csr(A_dense)"
   ]
  },
  {
   "cell_type": "code",
   "execution_count": null,
   "metadata": {},
   "outputs": [],
   "source": [
    "test_equality(A_csr, A_csr_, [\"data\", \"indices\", \"indptr\"])"
   ]
  },
  {
   "cell_type": "code",
   "execution_count": null,
   "metadata": {},
   "outputs": [],
   "source": [
    "A_csr.indptr"
   ]
  },
  {
   "cell_type": "code",
   "execution_count": null,
   "metadata": {},
   "outputs": [],
   "source": [
    "A_csr_.indptr"
   ]
  },
  {
   "cell_type": "markdown",
   "metadata": {},
   "source": [
    "## Diagonal format"
   ]
  },
  {
   "cell_type": "code",
   "execution_count": null,
   "metadata": {},
   "outputs": [],
   "source": [
    "A_diag = sparse.diags(np.arange(5))"
   ]
  },
  {
   "cell_type": "code",
   "execution_count": null,
   "metadata": {},
   "outputs": [],
   "source": [
    "A_diag"
   ]
  },
  {
   "cell_type": "code",
   "execution_count": null,
   "metadata": {},
   "outputs": [],
   "source": [
    "A_diag.toarray()"
   ]
  },
  {
   "cell_type": "code",
   "execution_count": null,
   "metadata": {
    "scrolled": true
   },
   "outputs": [],
   "source": [
    "A_diag.diagonal()"
   ]
  },
  {
   "cell_type": "code",
   "execution_count": null,
   "metadata": {},
   "outputs": [],
   "source": [
    "A = sparse.csr_matrix(A_diag)"
   ]
  },
  {
   "cell_type": "code",
   "execution_count": null,
   "metadata": {},
   "outputs": [],
   "source": [
    "A"
   ]
  },
  {
   "cell_type": "markdown",
   "metadata": {},
   "source": [
    "## To do"
   ]
  },
  {
   "cell_type": "markdown",
   "metadata": {},
   "source": [
    "Complete the following function that returns a sparse CSR matrix with the pseudo-inverse vector on the diagonal.\n",
    "\n",
    "**Example:** pseudo inverse of (0, 1, 2) -> (0, 1, 1/2)\n",
    "\n",
    "**Hint:** Use the property of sparse matrices!"
   ]
  },
  {
   "cell_type": "code",
   "execution_count": null,
   "metadata": {},
   "outputs": [],
   "source": [
    "def get_pseudo_inverse(vector):\n",
    "    '''Return a sparse matrix with pseudo-inverse on the diagonal.\n",
    "    \n",
    "    Parameters\n",
    "    ----------\n",
    "    vector : np.ndarray\n",
    "        Input vector. \n",
    "        \n",
    "    Returns\n",
    "    -------\n",
    "    A_csr : sparse.csr_matrix\n",
    "        Sparse matrix in scipy CSR format.\n",
    "    '''    \n",
    "    # to be modified\n",
    "    A_diag = sparse.diags(vector)\n",
    "    A = sparse.csr_matrix(A_diag)\n",
    "    A.data = np.ones(len(A.data))/A.data\n",
    "    return A"
   ]
  },
  {
   "cell_type": "code",
   "execution_count": null,
   "metadata": {},
   "outputs": [],
   "source": [
    "# test\n",
    "get_pseudo_inverse(np.arange(3))"
   ]
  },
  {
   "cell_type": "markdown",
   "metadata": {},
   "source": [
    "## Operations"
   ]
  },
  {
   "cell_type": "markdown",
   "metadata": {},
   "source": [
    "Usual arithmetic operations apply to sparse matrices. The only contraint is to have a sparse matrix on the **left-hand side** of the operator."
   ]
  },
  {
   "cell_type": "code",
   "execution_count": null,
   "metadata": {},
   "outputs": [],
   "source": [
    "A = sparse.csr_matrix(A_dense)"
   ]
  },
  {
   "cell_type": "code",
   "execution_count": null,
   "metadata": {},
   "outputs": [],
   "source": [
    "n_row, n_col = A.shape"
   ]
  },
  {
   "cell_type": "code",
   "execution_count": null,
   "metadata": {
    "scrolled": true
   },
   "outputs": [],
   "source": [
    "A.dot(np.ones(n_col, dtype=int))"
   ]
  },
  {
   "cell_type": "code",
   "execution_count": null,
   "metadata": {},
   "outputs": [],
   "source": [
    "A.T.dot(np.ones(n_row, dtype=int))"
   ]
  },
  {
   "cell_type": "code",
   "execution_count": null,
   "metadata": {},
   "outputs": [],
   "source": [
    "# observe the format of the transpose\n",
    "A.T"
   ]
  },
  {
   "cell_type": "code",
   "execution_count": null,
   "metadata": {},
   "outputs": [],
   "source": [
    "A.T.dot(A)"
   ]
  },
  {
   "cell_type": "code",
   "execution_count": null,
   "metadata": {},
   "outputs": [],
   "source": [
    "A.dot(A.T)"
   ]
  },
  {
   "cell_type": "code",
   "execution_count": null,
   "metadata": {},
   "outputs": [],
   "source": [
    "A.data = np.random.choice((1,2,3,4), size = len(A.data))"
   ]
  },
  {
   "cell_type": "code",
   "execution_count": null,
   "metadata": {},
   "outputs": [],
   "source": [
    "B = A > 1"
   ]
  },
  {
   "cell_type": "code",
   "execution_count": null,
   "metadata": {},
   "outputs": [],
   "source": [
    "B"
   ]
  },
  {
   "cell_type": "code",
   "execution_count": null,
   "metadata": {},
   "outputs": [],
   "source": [
    "# Explain the following warning...\n",
    "B = A < 1"
   ]
  },
  {
   "cell_type": "code",
   "execution_count": null,
   "metadata": {},
   "outputs": [],
   "source": [
    "B"
   ]
  },
  {
   "cell_type": "code",
   "execution_count": null,
   "metadata": {},
   "outputs": [],
   "source": [
    "B_dense = np.random.randint(2, size = (5,10))\n",
    "B = sparse.csr_matrix(B_dense)"
   ]
  },
  {
   "cell_type": "code",
   "execution_count": null,
   "metadata": {},
   "outputs": [],
   "source": [
    "2 * A + 5 * B"
   ]
  },
  {
   "cell_type": "markdown",
   "metadata": {},
   "source": [
    "## To do"
   ]
  },
  {
   "cell_type": "markdown",
   "metadata": {},
   "source": [
    "Complete the following function that normalizes a sparse CSR matrix with non-negative entries so that each row sums to 1 (or to 0 if the whole row is zero). \n",
    "\n",
    "**Hint:** Use the above function ``get_pseudo_inverse``."
   ]
  },
  {
   "cell_type": "code",
   "execution_count": null,
   "metadata": {},
   "outputs": [],
   "source": [
    "def normalize_rows(A):\n",
    "    '''Normalize the rows of a CSR matrix so that all sum to 1 (or 0).\n",
    "    \n",
    "    Parameters\n",
    "    ----------\n",
    "    A : sparse.csr_matrix\n",
    "        Input matrix (non-negative entries).\n",
    "    \n",
    "    Returns\n",
    "    -------\n",
    "    A_norm : sparse.csr_matrix\n",
    "        Normalized matrix. \n",
    "    \n",
    "    '''\n",
    "    # to be modified\n",
    "    vect = sum(A.toarray(), axis = 0) \n",
    "    B = get_pseudo_inverse(vect)\n",
    "    return A.dot(B)"
   ]
  },
  {
   "cell_type": "markdown",
   "metadata": {},
   "source": [
    "## To do"
   ]
  },
  {
   "cell_type": "markdown",
   "metadata": {},
   "source": [
    "Complete the following method that returns the dot product of a sparse CSR matrix with a vector.\n",
    "\n",
    "* No loop allowed!"
   ]
  },
  {
   "cell_type": "code",
   "execution_count": null,
   "metadata": {},
   "outputs": [],
   "source": [
    "class SparseCSR():\n",
    "    def __init__(self, data: np.ndarray, indices: np.ndarray, indptr: np.ndarray, shape: tuple):\n",
    "        self.data = data\n",
    "        self.indices = indices\n",
    "        self.indptr = indptr\n",
    "        self.shape = shape\n",
    "        \n",
    "    def dot(self, x: np.ndarray) -> np.ndarray:\n",
    "        '''Sparse-vector dot product.'''\n",
    "        # to be modified\n",
    "        return self.dot(x)"
   ]
  },
  {
   "cell_type": "markdown",
   "metadata": {},
   "source": [
    "## Slicing"
   ]
  },
  {
   "cell_type": "markdown",
   "metadata": {},
   "source": [
    "Sparse matrices can be sliced like numpy arrays. The CSR format is more efficient for row slicing (although column slicing is possible), while the CSC format is more efficient for column slicing."
   ]
  },
  {
   "cell_type": "code",
   "execution_count": null,
   "metadata": {},
   "outputs": [],
   "source": [
    "A = sparse.csr_matrix(A_dense)"
   ]
  },
  {
   "cell_type": "code",
   "execution_count": null,
   "metadata": {},
   "outputs": [],
   "source": [
    "A[:2]"
   ]
  },
  {
   "cell_type": "code",
   "execution_count": null,
   "metadata": {},
   "outputs": [],
   "source": [
    "A[1:4,2:]"
   ]
  },
  {
   "cell_type": "code",
   "execution_count": null,
   "metadata": {},
   "outputs": [],
   "source": [
    "A[np.array([0,2,4])]"
   ]
  },
  {
   "cell_type": "markdown",
   "metadata": {},
   "source": [
    "## To do \n",
    "\n",
    "Consider the following matrix:"
   ]
  },
  {
   "cell_type": "code",
   "execution_count": null,
   "metadata": {},
   "outputs": [],
   "source": [
    "A = sparse.csr_matrix(np.random.randint(2, size = (20,30)))"
   ]
  },
  {
   "cell_type": "markdown",
   "metadata": {},
   "source": [
    "Extract the 10 rows of largest sums and build the corresponding matrix."
   ]
  },
  {
   "cell_type": "code",
   "execution_count": null,
   "metadata": {},
   "outputs": [],
   "source": [
    "s = sum(A.toarray().T)\n",
    "ind = np.argsort(s)[-10:]\n",
    "B = A[np.array(ind)]"
   ]
  },
  {
   "cell_type": "markdown",
   "metadata": {},
   "source": [
    "## Bonus"
   ]
  },
  {
   "cell_type": "markdown",
   "metadata": {},
   "source": [
    "Complete all methods of the following CSR class."
   ]
  },
  {
   "cell_type": "code",
   "execution_count": null,
   "metadata": {},
   "outputs": [],
   "source": [
    "class SparseCSR():\n",
    "    def __init__(self, data: np.ndarray, indices: np.ndarray, indptr: np.ndarray, shape: tuple):\n",
    "        self.data = data\n",
    "        self.indices = indices\n",
    "        self.indptr = indptr\n",
    "        self.shape = shape\n",
    "        \n",
    "    def dot(self, x: np.ndarray) -> np.ndarray:\n",
    "        '''Sparse-vector dot product.'''\n",
    "        # to be modified\n",
    "        return None\n",
    "\n",
    "    def dot_array(self, X: np.ndarray) -> np.ndarray:\n",
    "        '''Sparse-array dot product.'''\n",
    "        # to be modified\n",
    "        return None\n",
    "    \n",
    "    def dot_sparse(self, X: SparseCSR) -> SparseCSR:\n",
    "        '''Sparse-sparse dot product.'''\n",
    "        # to be modified\n",
    "        return None\n",
    "    \n",
    "    def add_sparse(self, X: SparseCSR) -> SparseCSR:\n",
    "        '''Add a sparse matrix.'''\n",
    "        # to be modified\n",
    "        return None\n",
    "    \n",
    "    def slice_row(self, index: np.ndarray) -> SparseCSR:\n",
    "        '''Slice rows of a sparse matrix.'''\n",
    "        # to be modified\n",
    "        return None\n",
    "    \n",
    "    def slice_col(self, index: np.ndarray) -> SparseCSR:\n",
    "        '''Slice columns of a sparse matrix.'''\n",
    "        # to be modified\n",
    "        return None\n",
    "    \n",
    "    def eliminate_zeros(self) -> SparseCSR:\n",
    "        '''Eliminate zeros of a sparse matrix.'''\n",
    "        # to be modified\n",
    "        return None"
   ]
  }
 ],
 "metadata": {
  "kernelspec": {
   "display_name": "Python 3",
   "language": "python",
   "name": "python3"
  },
  "language_info": {
   "codemirror_mode": {
    "name": "ipython",
    "version": 3
   },
   "file_extension": ".py",
   "mimetype": "text/x-python",
   "name": "python",
   "nbconvert_exporter": "python",
   "pygments_lexer": "ipython3",
   "version": "3.7.0"
  }
 },
 "nbformat": 4,
 "nbformat_minor": 2
}
